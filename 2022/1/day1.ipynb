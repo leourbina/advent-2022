{
 "cells": [
  {
   "cell_type": "markdown",
   "id": "037bb99a-12f2-45e7-8078-dffa14d0bd94",
   "metadata": {},
   "source": [
    "# Day 1\n",
    "\n",
    "Santa's reindeer typically eat regular reindeer food, but they need a lot of magical energy to deliver presents on Christmas. For that, their favorite snack is a special type of star fruit that only grows deep in the jungle. The Elves have brought you on their annual expedition to the grove where the fruit grows.\n",
    "\n",
    "To supply enough magical energy, the expedition needs to retrieve a minimum of fifty stars by December 25th. Although the Elves assure you that the grove has plenty of fruit, you decide to grab any fruit you see along the way, just in case.\n",
    "\n",
    "Collect stars by solving puzzles. Two puzzles will be made available on each day in the Advent calendar; the second puzzle is unlocked when you complete the first. Each puzzle grants one star. Good luck!\n",
    "\n",
    "The jungle must be too overgrown and difficult to navigate in vehicles or access from the air; the Elves' expedition traditionally goes on foot. As your boats approach land, the Elves begin taking inventory of their supplies. One important consideration is food - in particular, the number of Calories each Elf is carrying (your puzzle input).\n",
    "\n",
    "The Elves take turns writing down the number of Calories contained by the various meals, snacks, rations, etc. that they've brought with them, one item per line. Each Elf separates their own inventory from the previous Elf's inventory (if any) by a blank line.\n",
    "\n",
    "For example, suppose the Elves finish writing their items' Calories and end up with the following list:\n",
    "\n",
    "```\n",
    "1000\n",
    "2000\n",
    "3000\n",
    "\n",
    "4000\n",
    "\n",
    "5000\n",
    "6000\n",
    "\n",
    "7000\n",
    "8000\n",
    "9000\n",
    "\n",
    "10000\n",
    "```\n",
    "\n",
    "This list represents the Calories of the food carried by five Elves:\n",
    "\n",
    "The first Elf is carrying food with 1000, 2000, and 3000 Calories, a total of 6000 Calories.\n",
    "The second Elf is carrying one food item with 4000 Calories.\n",
    "The third Elf is carrying food with 5000 and 6000 Calories, a total of 11000 Calories.\n",
    "The fourth Elf is carrying food with 7000, 8000, and 9000 Calories, a total of 24000 Calories.\n",
    "The fifth Elf is carrying one food item with 10000 Calories.\n",
    "In case the Elves get hungry and need extra snacks, they need to know which Elf to ask: they'd like to know how many Calories are being carried by the Elf carrying the most Calories. In the example above, this is 24000 (carried by the fourth Elf).\n",
    "\n",
    "Find the Elf carrying the most Calories. How many total Calories is that Elf carrying?"
   ]
  },
  {
   "cell_type": "code",
   "execution_count": 34,
   "id": "795977f2-b3f8-4c26-b34a-c638b9df441c",
   "metadata": {},
   "outputs": [],
   "source": [
    "def get_file_contents(filename):\n",
    "    with open(filename) as f:\n",
    "        data = f.read()\n",
    "    return data    \n"
   ]
  },
  {
   "cell_type": "code",
   "execution_count": 39,
   "id": "4e225e30-3f5e-4d24-9b4d-d0d3c038b892",
   "metadata": {},
   "outputs": [],
   "source": [
    "test_filename = \"./inputs/test_input.txt\"\n",
    "challenge_filename = \"./inputs/challenge_input.txt\"\n",
    "\n",
    "def calories_per_elf(filename):\n",
    "    data = get_file_contents(filename)\n",
    "\n",
    "    return [sum([int(x) for x in elf.split('\\n')]) \n",
    "                    for elf in data.split('\\n\\n')]"
   ]
  },
  {
   "cell_type": "code",
   "execution_count": 40,
   "id": "96fe1333-9745-4e08-b349-6d940695855b",
   "metadata": {},
   "outputs": [],
   "source": [
    "assert max(calories_per_elf(test_filename)) == 24000"
   ]
  },
  {
   "cell_type": "code",
   "execution_count": 41,
   "id": "9b0be0ad-7cec-4831-a8d1-959968857548",
   "metadata": {},
   "outputs": [
    {
     "data": {
      "text/plain": [
       "67622"
      ]
     },
     "execution_count": 41,
     "metadata": {},
     "output_type": "execute_result"
    }
   ],
   "source": [
    "max(calories_per_elf(challenge_filename))"
   ]
  },
  {
   "cell_type": "markdown",
   "id": "c5a7aae0-0b1a-456e-b00b-5b267df17ff3",
   "metadata": {},
   "source": [
    "## Part 2\n",
    "\n",
    "By the time you calculate the answer to the Elves' question, they've already realized that the Elf carrying the most Calories of food might eventually run out of snacks.\n",
    "\n",
    "To avoid this unacceptable situation, the Elves would instead like to know the total Calories carried by the top three Elves carrying the most Calories. That way, even if one of those Elves runs out of snacks, they still have two backups.\n",
    "\n",
    "In the example above, the top three Elves are the fourth Elf (with 24000 Calories), then the third Elf (with 11000 Calories), then the fifth Elf (with 10000 Calories). The sum of the Calories carried by these three elves is 45000.\n",
    "\n",
    "Find the top three Elves carrying the most Calories. How many Calories are those Elves carrying in total?\n"
   ]
  },
  {
   "cell_type": "code",
   "execution_count": 42,
   "id": "ca95c74f-f840-421c-a1f5-edf344e9e84e",
   "metadata": {},
   "outputs": [],
   "source": [
    "data = calories_per_elf(test_filename)"
   ]
  },
  {
   "cell_type": "code",
   "execution_count": 46,
   "id": "ce2d2a3a-ec03-4221-9f14-4b9e6626a552",
   "metadata": {},
   "outputs": [],
   "source": [
    "import bisect"
   ]
  },
  {
   "cell_type": "code",
   "execution_count": 55,
   "id": "5dac830b-ef6d-419e-8c57-bc78f6142dfc",
   "metadata": {},
   "outputs": [],
   "source": [
    "num_top_elves = 3\n",
    "\n",
    "def get_top_elves(data, num_top_elves=3):\n",
    "    tops = [0]*num_top_elves\n",
    "    for elf in data:\n",
    "        bisect.insort(tops, elf)\n",
    "        tops = tops[1:]\n",
    "    \n",
    "    return tops"
   ]
  },
  {
   "cell_type": "code",
   "execution_count": 56,
   "id": "1ceb1338-ec4e-4bf3-974e-6113720a29a0",
   "metadata": {},
   "outputs": [],
   "source": [
    "assert sum(get_top_elves(calories_per_elf(test_filename))) == 45000"
   ]
  },
  {
   "cell_type": "code",
   "execution_count": 57,
   "id": "67e753da-a374-41e5-9bc5-2a6802792e3d",
   "metadata": {},
   "outputs": [
    {
     "data": {
      "text/plain": [
       "201491"
      ]
     },
     "execution_count": 57,
     "metadata": {},
     "output_type": "execute_result"
    }
   ],
   "source": [
    "sum(get_top_elves(calories_per_elf(challenge_filename)))"
   ]
  },
  {
   "cell_type": "code",
   "execution_count": null,
   "id": "e4bade77-bd93-4176-a5e7-a7790c0e8ef8",
   "metadata": {},
   "outputs": [],
   "source": []
  }
 ],
 "metadata": {
  "kernelspec": {
   "display_name": "Python 3 (ipykernel)",
   "language": "python",
   "name": "python3"
  },
  "language_info": {
   "codemirror_mode": {
    "name": "ipython",
    "version": 3
   },
   "file_extension": ".py",
   "mimetype": "text/x-python",
   "name": "python",
   "nbconvert_exporter": "python",
   "pygments_lexer": "ipython3",
   "version": "3.10.8"
  }
 },
 "nbformat": 4,
 "nbformat_minor": 5
}
